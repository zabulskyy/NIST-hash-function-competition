{
 "cells": [
  {
   "cell_type": "code",
   "execution_count": 4,
   "metadata": {
    "ExecuteTime": {
     "end_time": "2019-05-09T16:22:14.160898Z",
     "start_time": "2019-05-09T16:22:14.152059Z"
    }
   },
   "outputs": [],
   "source": [
    "def split_str(string, n):\n",
    "    return [string[i:i+n] for i in range(0, len(string), n)]"
   ]
  },
  {
   "cell_type": "code",
   "execution_count": 5,
   "metadata": {
    "ExecuteTime": {
     "end_time": "2019-05-09T16:22:14.576510Z",
     "start_time": "2019-05-09T16:22:14.570716Z"
    }
   },
   "outputs": [],
   "source": [
    "def left_rotate(b, n):\n",
    "    return ((b << n) | (b >> (32 - n))) & 0xffffffff"
   ]
  },
  {
   "cell_type": "code",
   "execution_count": 6,
   "metadata": {
    "ExecuteTime": {
     "end_time": "2019-05-09T16:22:15.208378Z",
     "start_time": "2019-05-09T16:22:15.189778Z"
    }
   },
   "outputs": [],
   "source": [
    "def extend_by_80(chunk):\n",
    "    for i in range(16, 80):\n",
    "        word1 = chunk[i - 3]\n",
    "        word2 = chunk[i - 8]\n",
    "        word3 = chunk[i - 14]\n",
    "        word4 = chunk[i - 16]\n",
    "\n",
    "        xor1 = bin(int(word1, 2) ^ int(word2, 2))\n",
    "        xor2 = bin(int(xor1, 2) ^ int(word3, 2))\n",
    "        xor3 = bin(int(xor2, 2) ^ int(word4, 2))\n",
    "\n",
    "        new_word = bin(left_rotate(int(xor3, 2), 1))\n",
    "        chunk.append(new_word)\n",
    "    return chunk"
   ]
  },
  {
   "cell_type": "code",
   "execution_count": 7,
   "metadata": {
    "ExecuteTime": {
     "end_time": "2019-05-09T16:22:21.595901Z",
     "start_time": "2019-05-09T16:22:21.568538Z"
    }
   },
   "outputs": [],
   "source": [
    "def proceed_chunk(chunk, h):\n",
    "    a, b, c, d, e = h\n",
    "    h0, h1, h2, h3, h4 = h\n",
    "    for i in range(80):\n",
    "        f = None\n",
    "        k = None\n",
    "        if i < 20:\n",
    "            f = d ^ (b & (c ^ d))\n",
    "            k = 0x5A827999\n",
    "        elif i < 40:\n",
    "            f = b ^ c ^ d\n",
    "            k = 0x6ED9EBA1\n",
    "        elif i < 60:\n",
    "            f = (b & c) | (b & d) | (c & d)\n",
    "            k = 0x8F1BBCDC\n",
    "        else:\n",
    "            f = b ^ c ^ d\n",
    "            k = 0xCA62C1D6\n",
    "\n",
    "        word = chunk[i]\n",
    "        temp_a = left_rotate(a, 5) + f\n",
    "        temp_b = temp_a + e\n",
    "        temp_c = temp_b + k\n",
    "        \n",
    "        temp = temp_c + int(word, 2)\n",
    "        temp = temp & 0xffffffff\n",
    "\n",
    "        e = d\n",
    "        d = c\n",
    "        c = left_rotate(b, 30)\n",
    "        b = a\n",
    "        a = temp\n",
    "\n",
    "    h0 = hex((h0 + a) & 0xffffffff)[2:]\n",
    "    h1 = hex((h1 + b) & 0xffffffff)[2:]\n",
    "    h2 = hex((h2 + c) & 0xffffffff)[2:]\n",
    "    h3 = hex((h3 + d) & 0xffffffff)[2:]\n",
    "    h4 = hex((h4 + e) & 0xffffffff)[2:]\n",
    "\n",
    "    return ''.join([h0, h1, h2, h3, h4])"
   ]
  },
  {
   "cell_type": "code",
   "execution_count": 77,
   "metadata": {
    "ExecuteTime": {
     "end_time": "2019-05-09T16:31:24.212308Z",
     "start_time": "2019-05-09T16:31:24.206284Z"
    }
   },
   "outputs": [
    {
     "data": {
      "text/plain": [
       "[104, 101, 108, 108, 111, 44, 32, 119, 111, 114, 108, 100]"
      ]
     },
     "execution_count": 77,
     "metadata": {},
     "output_type": "execute_result"
    }
   ],
   "source": [
    "text = \"hello, world\"\n",
    "text = list(map(ord, list(text)))\n",
    "text"
   ]
  },
  {
   "cell_type": "code",
   "execution_count": 78,
   "metadata": {
    "ExecuteTime": {
     "end_time": "2019-05-09T16:31:24.727071Z",
     "start_time": "2019-05-09T16:31:24.716343Z"
    }
   },
   "outputs": [
    {
     "data": {
      "text/plain": [
       "['1101000',\n",
       " '1100101',\n",
       " '1101100',\n",
       " '1101100',\n",
       " '1101111',\n",
       " '101100',\n",
       " '100000',\n",
       " '1110111',\n",
       " '1101111',\n",
       " '1110010',\n",
       " '1101100',\n",
       " '1100100']"
      ]
     },
     "execution_count": 78,
     "metadata": {},
     "output_type": "execute_result"
    }
   ],
   "source": [
    "text = list(map(bin, text))\n",
    "text = [str(x)[2:] for x in text]\n",
    "text"
   ]
  },
  {
   "cell_type": "code",
   "execution_count": 79,
   "metadata": {
    "ExecuteTime": {
     "end_time": "2019-05-09T16:31:24.755762Z",
     "start_time": "2019-05-09T16:31:24.751351Z"
    }
   },
   "outputs": [
    {
     "data": {
      "text/plain": [
       "['01101000',\n",
       " '01100101',\n",
       " '01101100',\n",
       " '01101100',\n",
       " '01101111',\n",
       " '00101100',\n",
       " '00100000',\n",
       " '01110111',\n",
       " '01101111',\n",
       " '01110010',\n",
       " '01101100',\n",
       " '01100100']"
      ]
     },
     "execution_count": 79,
     "metadata": {},
     "output_type": "execute_result"
    }
   ],
   "source": [
    "text = [x.zfill(8) for x in text]\n",
    "text"
   ]
  },
  {
   "cell_type": "code",
   "execution_count": 80,
   "metadata": {
    "ExecuteTime": {
     "end_time": "2019-05-09T16:31:24.778926Z",
     "start_time": "2019-05-09T16:31:24.775152Z"
    }
   },
   "outputs": [
    {
     "data": {
      "text/plain": [
       "'011010000110010101101100011011000110111100101100001000000111011101101111011100100110110001100100'"
      ]
     },
     "execution_count": 80,
     "metadata": {},
     "output_type": "execute_result"
    }
   ],
   "source": [
    "''.join(text)"
   ]
  },
  {
   "cell_type": "code",
   "execution_count": 81,
   "metadata": {
    "ExecuteTime": {
     "end_time": "2019-05-09T16:31:24.803520Z",
     "start_time": "2019-05-09T16:31:24.799662Z"
    }
   },
   "outputs": [
    {
     "data": {
      "text/plain": [
       "'1100000'"
      ]
     },
     "execution_count": 81,
     "metadata": {},
     "output_type": "execute_result"
    }
   ],
   "source": [
    "binary_length = bin(len(''.join(text)))[2:]\n",
    "binary_length"
   ]
  },
  {
   "cell_type": "code",
   "execution_count": 82,
   "metadata": {
    "ExecuteTime": {
     "end_time": "2019-05-09T16:31:24.834417Z",
     "start_time": "2019-05-09T16:31:24.830873Z"
    }
   },
   "outputs": [
    {
     "data": {
      "text/plain": [
       "'0000000000000000000000000000000000000000000000000000000001100000'"
      ]
     },
     "execution_count": 82,
     "metadata": {},
     "output_type": "execute_result"
    }
   ],
   "source": [
    "binary_length = binary_length.zfill(64)  # 2 305 843 TB\n",
    "binary_length"
   ]
  },
  {
   "cell_type": "code",
   "execution_count": 83,
   "metadata": {
    "ExecuteTime": {
     "end_time": "2019-05-09T16:31:24.884197Z",
     "start_time": "2019-05-09T16:31:24.880745Z"
    }
   },
   "outputs": [
    {
     "data": {
      "text/plain": [
       "'0110100001100101011011000110110001101111001011000010000001110111011011110111001001101100011001001'"
      ]
     },
     "execution_count": 83,
     "metadata": {},
     "output_type": "execute_result"
    }
   ],
   "source": [
    "text = \"\".join(text) + \"1\"\n",
    "text"
   ]
  },
  {
   "cell_type": "code",
   "execution_count": 84,
   "metadata": {
    "ExecuteTime": {
     "end_time": "2019-05-09T16:31:24.909151Z",
     "start_time": "2019-05-09T16:31:24.905057Z"
    }
   },
   "outputs": [
    {
     "data": {
      "text/plain": [
       "('0110100001100101011011000110110001101111001011000010000001110111011011110111001001101100011001001000000000000000000000000000000000000000000000000000000000000000000000000000000000000000000000000000000000000000000000000000000000000000000000000000000000000000000000000000000000000000000000000000000000000000000000000000000000000000000000000000000000000000000000000000000000000000000000000000000000000000000000000000000000000000000000000000000000000000',\n",
       " 448)"
      ]
     },
     "execution_count": 84,
     "metadata": {},
     "output_type": "execute_result"
    }
   ],
   "source": [
    "while len(text) % 512 != 448:\n",
    "    text += \"0\"\n",
    "text, len(text)"
   ]
  },
  {
   "cell_type": "code",
   "execution_count": 85,
   "metadata": {
    "ExecuteTime": {
     "end_time": "2019-05-09T16:31:24.929184Z",
     "start_time": "2019-05-09T16:31:24.925636Z"
    }
   },
   "outputs": [
    {
     "data": {
      "text/plain": [
       "'01101000011001010110110001101100011011110010110000100000011101110110111101110010011011000110010010000000000000000000000000000000000000000000000000000000000000000000000000000000000000000000000000000000000000000000000000000000000000000000000000000000000000000000000000000000000000000000000000000000000000000000000000000000000000000000000000000000000000000000000000000000000000000000000000000000000000000000000000000000000000000000000000000000000000000000000000000000000000000000000000000000000000000000000001100000'"
      ]
     },
     "execution_count": 85,
     "metadata": {},
     "output_type": "execute_result"
    }
   ],
   "source": [
    "text += binary_length\n",
    "text"
   ]
  },
  {
   "cell_type": "code",
   "execution_count": 86,
   "metadata": {
    "ExecuteTime": {
     "end_time": "2019-05-09T16:31:24.961624Z",
     "start_time": "2019-05-09T16:31:24.957129Z"
    }
   },
   "outputs": [
    {
     "data": {
      "text/plain": [
       "['01101000011001010110110001101100011011110010110000100000011101110110111101110010011011000110010010000000000000000000000000000000000000000000000000000000000000000000000000000000000000000000000000000000000000000000000000000000000000000000000000000000000000000000000000000000000000000000000000000000000000000000000000000000000000000000000000000000000000000000000000000000000000000000000000000000000000000000000000000000000000000000000000000000000000000000000000000000000000000000000000000000000000000000000001100000']"
      ]
     },
     "execution_count": 86,
     "metadata": {},
     "output_type": "execute_result"
    }
   ],
   "source": [
    "text_chunks = split_str(text, 512)\n",
    "text_chunks"
   ]
  },
  {
   "cell_type": "code",
   "execution_count": 87,
   "metadata": {
    "ExecuteTime": {
     "end_time": "2019-05-09T16:31:24.989013Z",
     "start_time": "2019-05-09T16:31:24.984735Z"
    }
   },
   "outputs": [
    {
     "data": {
      "text/plain": [
       "[['01101000011001010110110001101100',\n",
       "  '01101111001011000010000001110111',\n",
       "  '01101111011100100110110001100100',\n",
       "  '10000000000000000000000000000000',\n",
       "  '00000000000000000000000000000000',\n",
       "  '00000000000000000000000000000000',\n",
       "  '00000000000000000000000000000000',\n",
       "  '00000000000000000000000000000000',\n",
       "  '00000000000000000000000000000000',\n",
       "  '00000000000000000000000000000000',\n",
       "  '00000000000000000000000000000000',\n",
       "  '00000000000000000000000000000000',\n",
       "  '00000000000000000000000000000000',\n",
       "  '00000000000000000000000000000000',\n",
       "  '00000000000000000000000000000000',\n",
       "  '00000000000000000000000001100000']]"
      ]
     },
     "execution_count": 87,
     "metadata": {},
     "output_type": "execute_result"
    }
   ],
   "source": [
    "text_chunks = [split_str(s, 32) for s in text_chunks]\n",
    "text_chunks"
   ]
  },
  {
   "cell_type": "code",
   "execution_count": 88,
   "metadata": {
    "ExecuteTime": {
     "end_time": "2019-05-09T16:31:25.013068Z",
     "start_time": "2019-05-09T16:31:25.010654Z"
    }
   },
   "outputs": [],
   "source": [
    "h = (0x67452301, 0xEFCDAB89, 0x98BADCFE, 0x10325476, 0xC3D2E1F0)"
   ]
  },
  {
   "cell_type": "code",
   "execution_count": 89,
   "metadata": {
    "ExecuteTime": {
     "end_time": "2019-05-09T16:31:25.065322Z",
     "start_time": "2019-05-09T16:31:25.060715Z"
    }
   },
   "outputs": [
    {
     "data": {
      "text/plain": [
       "'b7e23ec29af22b0b4e41da31e868d57226121c84'"
      ]
     },
     "execution_count": 89,
     "metadata": {},
     "output_type": "execute_result"
    }
   ],
   "source": [
    "for i in range(len(text_chunks)):\n",
    "    text_chunks[i] = extend_by_80(text_chunks[i])\n",
    "    h = proceed_chunk(text_chunks[i], h)\n",
    "\n",
    "h"
   ]
  }
 ],
 "metadata": {
  "kernelspec": {
   "display_name": "Python 3",
   "language": "python",
   "name": "python3"
  },
  "language_info": {
   "codemirror_mode": {
    "name": "ipython",
    "version": 3
   },
   "file_extension": ".py",
   "mimetype": "text/x-python",
   "name": "python",
   "nbconvert_exporter": "python",
   "pygments_lexer": "ipython3",
   "version": "3.6.8"
  }
 },
 "nbformat": 4,
 "nbformat_minor": 2
}
